{
 "cells": [
  {
   "cell_type": "markdown",
   "metadata": {},
   "source": [
    "# Grape2 Spectrogram Workbook\n",
    "\n",
    "Author: Cuong Nguyen\n",
    "\n",
    "Created: 2024/01/04"
   ]
  },
  {
   "cell_type": "markdown",
   "metadata": {},
   "source": [
    "## Imports and Setup"
   ]
  },
  {
   "cell_type": "code",
   "execution_count": 1,
   "metadata": {},
   "outputs": [],
   "source": [
    "import os\n",
    "import numpy as np\n",
    "import matplotlib.pyplot as plt\n",
    "import matplotlib.transforms as transforms\n",
    "import pandas as pd\n",
    "from io import StringIO\n",
    "\n",
    "from scipy import signal\n",
    "\n",
    "from IPython.display import Audio, display\n",
    "\n",
    "%matplotlib inline"
   ]
  },
  {
   "cell_type": "code",
   "execution_count": 2,
   "metadata": {},
   "outputs": [],
   "source": [
    "# Matplotlib settings to make the plots look a little nicer.\n",
    "plt.rcParams['font.size']      = 12\n",
    "# plt.rcParams['font.weight']    = 'bold'\n",
    "plt.rcParams['axes.grid']      = False\n",
    "plt.rcParams['axes.xmargin']   = 0\n",
    "# plt.rcParams['grid.linestyle'] = ':'\n",
    "plt.rcParams['figure.figsize'] = (20,6)"
   ]
  },
  {
   "cell_type": "markdown",
   "metadata": {},
   "source": [
    "## Useful Functions"
   ]
  },
  {
   "cell_type": "code",
   "execution_count": 3,
   "metadata": {},
   "outputs": [],
   "source": [
    "def find_rows_with_characters(file_path):\n",
    "    row_numbers = []\n",
    "\n",
    "    with open(file_path, \"r\") as file:\n",
    "        for row_number, line in enumerate(file):\n",
    "            if any(char in line for char in [\"#\", \"T\", \"C\"]):\n",
    "                row_numbers.append(row_number)\n",
    "\n",
    "    return row_numbers"
   ]
  },
  {
   "cell_type": "markdown",
   "metadata": {},
   "source": [
    "## Read Datafiles"
   ]
  },
  {
   "cell_type": "code",
   "execution_count": 4,
   "metadata": {},
   "outputs": [],
   "source": [
    "dir_path = \"2024-01-01\"\n",
    "csv_files = [file for file in os.listdir(dir_path) if file.endswith('.csv')]\n",
    "df = pd.DataFrame()"
   ]
  },
  {
   "cell_type": "code",
   "execution_count": null,
   "metadata": {},
   "outputs": [],
   "source": [
    "for file in csv_files:\n",
    "    file_path = os.path.join(dir_path, file)\n",
    "    exclude = find_rows_with_characters(file_path)\n",
    "    df_raw = pd.read_csv(\n",
    "        file_path,\n",
    "        names=range(3),\n",
    "        skiprows=exclude,\n",
    "        header=None,\n",
    "        converters={col: (lambda x: int(x, 16)) for col in range(3)},\n",
    "    )\n",
    "    df = pd.concat([df, df_raw], ignore_index=True)"
   ]
  },
  {
   "cell_type": "code",
   "execution_count": null,
   "metadata": {},
   "outputs": [],
   "source": [
    "display(df)"
   ]
  },
  {
   "cell_type": "code",
   "execution_count": null,
   "metadata": {},
   "outputs": [],
   "source": [
    "len(exclude)"
   ]
  },
  {
   "cell_type": "markdown",
   "metadata": {},
   "source": [
    "## Raw Signals"
   ]
  },
  {
   "cell_type": "code",
   "execution_count": null,
   "metadata": {},
   "outputs": [],
   "source": [
    "# Create time vector\n",
    "fs    = 8000 # Standard Audio Sampling Frequency\n",
    "Ts    = 1/fs  # Convert to sampling period\n",
    "\n",
    "t_max = 24*60*60.                 # Time max in seconds.\n",
    "N     = t_max*fs          # Total number of samples\n",
    "k     = np.arange(0,N)  # Integer time index vector\n",
    "\n",
    "t     = k*Ts              # Time vector in seconds"
   ]
  },
  {
   "cell_type": "code",
   "execution_count": null,
   "metadata": {},
   "outputs": [],
   "source": [
    "# # Plot the sinusoid.\n",
    "# xlim = None\n",
    "# # ylim = (-3, 3)\n",
    "# ylim = None\n",
    "\n",
    "# fig = plt.figure(figsize=(12, 10))\n",
    "\n",
    "# ax = fig.add_subplot(3, 1, 1)\n",
    "# ax.plot(t, df[0])\n",
    "# ax.set_ylabel(\"Radio 0\")\n",
    "# ax.set_xticklabels([])\n",
    "# ax.set_xlim(xlim)\n",
    "# ax.set_ylim(ylim)\n",
    "\n",
    "# ax = fig.add_subplot(3, 1, 2)\n",
    "# ax.plot(t, df[1])\n",
    "# ax.set_ylabel(\"Radio 1\")\n",
    "# ax.set_xticklabels([])\n",
    "# ax.set_xlim(xlim)\n",
    "# ax.set_ylim(ylim)\n",
    "\n",
    "# ax = fig.add_subplot(3, 1, 3)\n",
    "# ax.plot(t, df[2])\n",
    "# ax.set_xlabel(\"t [s]\")\n",
    "# ax.set_ylabel(\"Radio 2\")\n",
    "# ax.set_xlim(xlim)\n",
    "# ax.set_ylim(ylim)\n",
    "\n",
    "# fig.tight_layout()\n",
    "# plt.show()"
   ]
  },
  {
   "cell_type": "markdown",
   "metadata": {},
   "source": [
    "## Spectrograms"
   ]
  },
  {
   "cell_type": "code",
   "execution_count": null,
   "metadata": {},
   "outputs": [],
   "source": [
    "#nperseg MUST be an integer, not a float. That is why I write int(fs/10).\n",
    "f, t_spec, Sxx = signal.spectrogram(df[1],fs=fs,window='hann',nperseg=int(fs/0.01))\n",
    "Sxx_db = 10*np.log10(Sxx)\n",
    "f = f - 500"
   ]
  },
  {
   "cell_type": "code",
   "execution_count": null,
   "metadata": {},
   "outputs": [],
   "source": [
    "flim = (-5,5)\n",
    "fig = plt.figure(figsize=(20,6))\n",
    "ax  = fig.add_subplot(1,1,1)\n",
    "mpbl = ax.pcolormesh(t_spec,f,Sxx_db)\n",
    "cbar = fig.colorbar(mpbl,label='PSD [dB]')\n",
    "ax.set_title(dir_path)\n",
    "ax.set_xlabel('t [s]')\n",
    "ax.set_ylabel('DopplerShift [Hz]')\n",
    "ax.set_ylim(flim)\n",
    "plt.show()"
   ]
  },
  {
   "cell_type": "markdown",
   "metadata": {},
   "source": [
    "## Test Area"
   ]
  },
  {
   "cell_type": "code",
   "execution_count": null,
   "metadata": {},
   "outputs": [],
   "source": [
    "# arr = np.loadtxt(\n",
    "#     csv_path, comments=[\"#\", \"T\", \"C\"], delimiter=\",\", converters=lambda x: int(x, 16)\n",
    "# )\n",
    "# dfarr = pd.DataFrame(arr)"
   ]
  },
  {
   "cell_type": "code",
   "execution_count": null,
   "metadata": {},
   "outputs": [],
   "source": [
    "# display(dfarr)"
   ]
  },
  {
   "cell_type": "code",
   "execution_count": null,
   "metadata": {},
   "outputs": [],
   "source": [
    "# # Plot the sinusoid.\n",
    "# xlim = None\n",
    "# ylim = (-3,3)\n",
    "\n",
    "# fig = plt.figure(figsize=(12,10))\n",
    "\n",
    "# ax  = fig.add_subplot(3,1,1)\n",
    "# ax.plot(t,x0)\n",
    "# ax.set_ylabel('C4')\n",
    "# ax.set_xticklabels([])\n",
    "# ax.set_xlim(xlim)\n",
    "# ax.set_ylim(ylim)\n",
    "\n",
    "# ax  = fig.add_subplot(3,1,2)\n",
    "# ax.plot(t,x1)\n",
    "# ax.set_ylabel('A4')\n",
    "# ax.set_xticklabels([])\n",
    "# ax.set_xlim(xlim)\n",
    "# ax.set_ylim(ylim)\n",
    "\n",
    "# ax  = fig.add_subplot(3,1,3)\n",
    "# ax.plot(t,xx)\n",
    "# ax.set_xlabel('t [s]')\n",
    "# ax.set_ylabel('C4 + A4')\n",
    "# ax.set_xlim(xlim)\n",
    "# ax.set_ylim(ylim)\n",
    "\n",
    "# fig.tight_layout()\n",
    "# plt.show()"
   ]
  },
  {
   "cell_type": "code",
   "execution_count": null,
   "metadata": {},
   "outputs": [],
   "source": [
    "# df1 = pd.read_csv(csv_path, comment='#', header=None, names=range(3))"
   ]
  },
  {
   "cell_type": "code",
   "execution_count": null,
   "metadata": {},
   "outputs": [],
   "source": [
    "# df1"
   ]
  },
  {
   "cell_type": "code",
   "execution_count": null,
   "metadata": {},
   "outputs": [],
   "source": [
    "# df1 = df1[df1[0].str.contains(\"T|C\") == False]"
   ]
  }
 ],
 "metadata": {
  "kernelspec": {
   "display_name": "Python 3 (ipykernel)",
   "language": "python",
   "name": "python3"
  },
  "language_info": {
   "codemirror_mode": {
    "name": "ipython",
    "version": 3
   },
   "file_extension": ".py",
   "mimetype": "text/x-python",
   "name": "python",
   "nbconvert_exporter": "python",
   "pygments_lexer": "ipython3",
   "version": "3.10.13"
  }
 },
 "nbformat": 4,
 "nbformat_minor": 4
}
